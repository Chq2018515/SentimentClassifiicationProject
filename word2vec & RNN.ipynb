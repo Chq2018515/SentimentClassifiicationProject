{
 "cells": [
  {
   "cell_type": "markdown",
   "metadata": {},
   "source": [
    "# IMDB\n",
    "https://zhuanlan.zhihu.com/p/63852350?utm_source=wechat_session&utm_medium=social&utm_oi=746820673451597824"
   ]
  },
  {
   "cell_type": "code",
   "execution_count": 3,
   "metadata": {},
   "outputs": [
    {
     "name": "stdout",
     "output_type": "stream",
     "text": [
      "12500\n",
      "12500\n"
     ]
    }
   ],
   "source": [
    "import os\n",
    "datapath = r'aclImdb\\train'\n",
    "pos_files = os.listdir(datapath+'/pos')\n",
    "neg_files = os.listdir(datapath+'/neg')\n",
    "print(len(pos_files)) # 训练集中正面数据集数\n",
    "print(len(neg_files))"
   ]
  },
  {
   "cell_type": "code",
   "execution_count": 4,
   "metadata": {},
   "outputs": [
    {
     "name": "stdout",
     "output_type": "stream",
     "text": [
      "12500\n",
      "12500\n",
      "X_orig: (25000,)\n",
      "Y_orig: (25000,)\n"
     ]
    }
   ],
   "source": [
    "import numpy as np\n",
    "pos_all = []\n",
    "neg_all = []\n",
    "for pf,nf in zip(pos_files,neg_files):\n",
    "    with open(datapath+'/pos'+'/'+pf,encoding='utf-8') as f:\n",
    "        s = f.read()\n",
    "        # 合并正面数据\n",
    "        pos_all.append(s)\n",
    "    with open(datapath+'/neg'+'/'+nf,encoding='utf-8') as f:\n",
    "        s = f.read()\n",
    "        # 合并负面数据\n",
    "        neg_all.append(s)\n",
    "print(len(pos_all))\n",
    "print(len(neg_all))\n",
    "X_orig = np.array(pos_all+neg_all)\n",
    "Y_orig = np.array([1 for _ in range(12500)] + [0 for _ in range(12500)]) #  用于判断？？\n",
    "print(\"X_orig:\",X_orig.shape)\n",
    "print(\"Y_orig:\",Y_orig.shape)"
   ]
  },
  {
   "cell_type": "code",
   "execution_count": 7,
   "metadata": {},
   "outputs": [
    {
     "name": "stdout",
     "output_type": "stream",
     "text": [
      "Start fitting the corpus......\n",
      "all_vocab_size 166\n",
      "Fitting time:  6.042072772979736 s\n",
      "Start vectorizing the sentences.......\n",
      "Start padding......\n",
      "Finished!\n"
     ]
    }
   ],
   "source": [
    "# 预处理\n",
    "from keras.preprocessing.text import text_to_word_sequence,one_hot,Tokenizer\n",
    "from keras.preprocessing.sequence import pad_sequences\n",
    "import time\n",
    "vocab_size = 20000\n",
    "maxlen = 200\n",
    "print(\"Start fitting the corpus......\")\n",
    "t = Tokenizer(vocab_size) # 要使得文本向量化时省略掉低频词，就要设置这个参数\n",
    "tik = time.time()\n",
    "t.fit_on_texts(X_orig) # 在所有的评论数据集上训练，得到统计信息\n",
    "tok = time.time()\n",
    "word_index = t.word_index # 不受vocab_size的影响\n",
    "print('all_vocab_size',len(word_index))\n",
    "print(\"Fitting time: \",(tok-tik),'s')\n",
    "print(\"Start vectorizing the sentences.......\")\n",
    "v_X = t.texts_to_sequences(X_orig) # 受vocab_size的影响\n",
    "print(\"Start padding......\")\n",
    "pad_X = pad_sequences(v_X,maxlen=maxlen,padding='post')\n",
    "print(\"Finished!\")"
   ]
  },
  {
   "cell_type": "code",
   "execution_count": 8,
   "metadata": {},
   "outputs": [
    {
     "name": "stdout",
     "output_type": "stream",
     "text": [
      "Removing less freq words from word-index dict...\n",
      "Finished!\n",
      "166\n",
      "166\n"
     ]
    }
   ],
   "source": [
    "import copy\n",
    "x = list(t.word_counts.items())\n",
    "s = sorted(x,key=lambda p:p[1],reverse=True) # 递减\n",
    "small_word_index = copy.deepcopy(word_index) # 防止原来的字典也被改变了\n",
    "print(\"Removing less freq words from word-index dict...\")\n",
    "for item in s[20000:]:\n",
    "    small_word_index.pop(item[0]) # 除去最低频的词？？\n",
    "print(\"Finished!\")\n",
    "print(len(small_word_index))\n",
    "print(len(word_index))"
   ]
  },
  {
   "cell_type": "code",
   "execution_count": null,
   "metadata": {
    "scrolled": false
   },
   "outputs": [
    {
     "name": "stdout",
     "output_type": "stream",
     "text": [
      "Loading word2vec model......\n"
     ]
    }
   ],
   "source": [
    "import gensim\n",
    "model_file = 'D:\\\\GoogleNews-vectors-negative300.bin'\n",
    "print(\"Loading word2vec model......\")\n",
    "wv_model = gensim.models.KeyedVectors.load_word2vec_format(model_file,binary=True)"
   ]
  },
  {
   "cell_type": "code",
   "execution_count": null,
   "metadata": {},
   "outputs": [],
   "source": [
    "embedding_matrix = np.random.uniform(size=(vocab_size+1,300)) # +1是要留一个给index=0\n",
    "print(\"Transfering to the embedding matrix......\")\n",
    "# sorted_small_index = sorted(list(small_word_index.items()),key=lambda x:x[1])\n",
    "for word,index in small_word_index.items():\n",
    "    try:\n",
    "        word_vector = wv_model[word]\n",
    "        embedding_matrix[index] = word_vector\n",
    "    except:\n",
    "        print(\"Word: [\",word,\"] not in wvmodel! Use random embedding instead.\")\n",
    "print(\"Finished!\")\n",
    "print(\"Embedding matrix shape:\\n\",embedding_matrix.shape)"
   ]
  },
  {
   "cell_type": "code",
   "execution_count": null,
   "metadata": {},
   "outputs": [],
   "source": [
    "from sklearn.model_selection import train_test_split\n",
    "np.random.seed = 1\n",
    "random_indexs = np.random.permutation(len(pad_X))\n",
    "X = pad_X[random_indexs]\n",
    "Y = Y_orig[random_indexs]\n",
    "print(Y[:50])\n",
    "X_train, X_test, y_train, y_test = train_test_split(X,Y,test_size=0.2)\n",
    "print(\"X_train:\",X_train.shape)\n",
    "print(\"y_train:\",y_train.shape)\n",
    "print(\"X_test:\",X_test.shape)\n",
    "print(\"y_test:\",y_test.shape)\n",
    "print(list(y_train).count(1))\n",
    "print(list(y_train).count(0))"
   ]
  },
  {
   "cell_type": "code",
   "execution_count": null,
   "metadata": {},
   "outputs": [],
   "source": [
    "import keras\n",
    "from keras.models import Sequential,Model\n",
    "from keras.layers import Input,Dense,GRU,LSTM,Activation,Dropout,Embedding\n",
    "from keras.layers import Multiply,Concatenate,Dot\n",
    "\n",
    "inputs = Input(shape=(maxlen,))\n",
    "use_pretrained_wv = True\n",
    "if use_pretrained_wv:\n",
    "    wv = Embedding(VOCAB_SIZE+1,wv_dim,input_length=MAXLEN,weights=[embedding_matrix])      (inputs)\n",
    "else:\n",
    "    wv = Embedding(VOCAB_SIZE+1,wv_dim,input_length=MAXLEN)(inputs)\n",
    "\n",
    "h = LSTM(128)(wv)\n",
    "y = Dense(1,activation='sigmoid')(h)\n",
    "m = Model(input=inputs,output=y)\n",
    "m.summary()\n",
    "\n",
    "m.compile(optimizer='adam',loss='binary_crossentropy',metrics=['accuracy'])\n",
    "m.fit(X_train,y_train,batch_size=32,epochs=3,validation_split=0.15)"
   ]
  },
  {
   "cell_type": "code",
   "execution_count": null,
   "metadata": {},
   "outputs": [],
   "source": []
  }
 ],
 "metadata": {
  "kernelspec": {
   "display_name": "Python 3",
   "language": "python",
   "name": "python3"
  },
  "language_info": {
   "codemirror_mode": {
    "name": "ipython",
    "version": 3
   },
   "file_extension": ".py",
   "mimetype": "text/x-python",
   "name": "python",
   "nbconvert_exporter": "python",
   "pygments_lexer": "ipython3",
   "version": "3.7.3"
  }
 },
 "nbformat": 4,
 "nbformat_minor": 2
}
